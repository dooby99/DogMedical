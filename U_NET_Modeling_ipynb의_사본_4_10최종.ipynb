{
  "nbformat": 4,
  "nbformat_minor": 0,
  "metadata": {
    "colab": {
      "provenance": [],
      "include_colab_link": true
    },
    "kernelspec": {
      "name": "python3",
      "display_name": "Python 3"
    },
    "language_info": {
      "name": "python"
    },
    "gpuClass": "standard",
    "accelerator": "GPU"
  },
  "cells": [
    {
      "cell_type": "markdown",
      "metadata": {
        "id": "view-in-github",
        "colab_type": "text"
      },
      "source": [
        "<a href=\"https://colab.research.google.com/github/dooby99/DogMedical/blob/main/U_NET_Modeling_ipynb%EC%9D%98_%EC%82%AC%EB%B3%B8_4_10%EC%B5%9C%EC%A2%85.ipynb\" target=\"_parent\"><img src=\"https://colab.research.google.com/assets/colab-badge.svg\" alt=\"Open In Colab\"/></a>"
      ]
    },
    {
      "cell_type": "code",
      "source": [
        "#구글드라이브 연동\n",
        "from google.colab import drive\n",
        "drive.mount('/content/drive')"
      ],
      "metadata": {
        "id": "2i_FeQjp5shL",
        "colab": {
          "base_uri": "https://localhost:8080/"
        },
        "outputId": "dad08eb7-8209-4501-8c15-d4f30294d52b"
      },
      "execution_count": null,
      "outputs": [
        {
          "output_type": "stream",
          "name": "stdout",
          "text": [
            "Mounted at /content/drive\n"
          ]
        }
      ]
    },
    {
      "cell_type": "code",
      "source": [
        "%cd /content/drive/MyDrive/Univ4-1"
      ],
      "metadata": {
        "id": "oqC54Gr551pO",
        "colab": {
          "base_uri": "https://localhost:8080/"
        },
        "outputId": "7701e2ba-db3b-4787-a285-ad7cc12dbd9c"
      },
      "execution_count": null,
      "outputs": [
        {
          "output_type": "stream",
          "name": "stdout",
          "text": [
            "/content/drive/MyDrive/Univ4-1\n"
          ]
        }
      ]
    },
    {
      "cell_type": "code",
      "execution_count": null,
      "metadata": {
        "id": "fHM69Re75kQy",
        "colab": {
          "base_uri": "https://localhost:8080/",
          "height": 36
        },
        "outputId": "355b36bc-9087-4f9c-ca8f-a0346cb6ba6c"
      },
      "outputs": [
        {
          "output_type": "execute_result",
          "data": {
            "text/plain": [
              "'/content'"
            ],
            "application/vnd.google.colaboratory.intrinsic+json": {
              "type": "string"
            }
          },
          "metadata": {},
          "execution_count": 3
        }
      ],
      "source": [
        "import numpy as np\n",
        "import os\n",
        "from PIL import Image\n",
        "import matplotlib.pyplot as plt\n",
        "\n",
        "import torch\n",
        "import torch.nn as nn\n",
        "from torch.utils.data import DataLoader\n",
        "from torch.utils.tensorboard import SummaryWriter\n",
        "from torchvision import transforms,datasets\n",
        "\n",
        "dir_data = os.getcwd()\n",
        "dir_data"
      ]
    },
    {
      "cell_type": "code",
      "source": [
        "### --- 테스트용 코드\n",
        "_data_dir = os.path.join(dir_data, 'data')\n",
        "_lst_data = os.listdir(_data_dir)\n",
        "\n",
        "_lst_label = [f for f in _lst_data if f.startswith('label')]  # 문자열 검사해서 'label'이 있으면 True\n",
        "_lst_input = [f for f in _lst_data if f.startswith('input')]  # 문자열 검사해서 'input'이 있으면 True\n",
        "\n",
        "_lst_label"
      ],
      "metadata": {
        "colab": {
          "base_uri": "https://localhost:8080/",
          "height": 235
        },
        "id": "vHxoMq7Nr6QP",
        "outputId": "3395c6ba-113a-4c5a-de4e-2fb435534a62"
      },
      "execution_count": null,
      "outputs": [
        {
          "output_type": "error",
          "ename": "FileNotFoundError",
          "evalue": "ignored",
          "traceback": [
            "\u001b[0;31m---------------------------------------------------------------------------\u001b[0m",
            "\u001b[0;31mFileNotFoundError\u001b[0m                         Traceback (most recent call last)",
            "\u001b[0;32m<ipython-input-5-ac9af5ce18cf>\u001b[0m in \u001b[0;36m<cell line: 3>\u001b[0;34m()\u001b[0m\n\u001b[1;32m      1\u001b[0m \u001b[0;31m### --- 테스트용 코드\u001b[0m\u001b[0;34m\u001b[0m\u001b[0;34m\u001b[0m\u001b[0m\n\u001b[1;32m      2\u001b[0m \u001b[0m_data_dir\u001b[0m \u001b[0;34m=\u001b[0m \u001b[0mos\u001b[0m\u001b[0;34m.\u001b[0m\u001b[0mpath\u001b[0m\u001b[0;34m.\u001b[0m\u001b[0mjoin\u001b[0m\u001b[0;34m(\u001b[0m\u001b[0mdir_data\u001b[0m\u001b[0;34m,\u001b[0m \u001b[0;34m'data'\u001b[0m\u001b[0;34m)\u001b[0m\u001b[0;34m\u001b[0m\u001b[0;34m\u001b[0m\u001b[0m\n\u001b[0;32m----> 3\u001b[0;31m \u001b[0m_lst_data\u001b[0m \u001b[0;34m=\u001b[0m \u001b[0mos\u001b[0m\u001b[0;34m.\u001b[0m\u001b[0mlistdir\u001b[0m\u001b[0;34m(\u001b[0m\u001b[0m_data_dir\u001b[0m\u001b[0;34m)\u001b[0m\u001b[0;34m\u001b[0m\u001b[0;34m\u001b[0m\u001b[0m\n\u001b[0m\u001b[1;32m      4\u001b[0m \u001b[0;34m\u001b[0m\u001b[0m\n\u001b[1;32m      5\u001b[0m \u001b[0m_lst_label\u001b[0m \u001b[0;34m=\u001b[0m \u001b[0;34m[\u001b[0m\u001b[0mf\u001b[0m \u001b[0;32mfor\u001b[0m \u001b[0mf\u001b[0m \u001b[0;32min\u001b[0m \u001b[0m_lst_data\u001b[0m \u001b[0;32mif\u001b[0m \u001b[0mf\u001b[0m\u001b[0;34m.\u001b[0m\u001b[0mstartswith\u001b[0m\u001b[0;34m(\u001b[0m\u001b[0;34m'label'\u001b[0m\u001b[0;34m)\u001b[0m\u001b[0;34m]\u001b[0m  \u001b[0;31m# 문자열 검사해서 'label'이 있으면 True\u001b[0m\u001b[0;34m\u001b[0m\u001b[0;34m\u001b[0m\u001b[0m\n",
            "\u001b[0;31mFileNotFoundError\u001b[0m: [Errno 2] No such file or directory: '/content/data'"
          ]
        }
      ]
    },
    {
      "cell_type": "code",
      "source": [
        "## 네트워크 구축\n",
        "class UNet(nn.Module):\n",
        "    def __init__(self):\n",
        "        super(UNet, self).__init__()\n",
        "\n",
        "        def CBR2d(in_channels, out_channels, kernel_size=3, stride=1, padding=1, bias=True):\n",
        "            layers = []\n",
        "            layers += [nn.Conv2d(in_channels=in_channels, out_channels=out_channels,\n",
        "                                 kernel_size=kernel_size, stride=stride, padding=padding,\n",
        "                                 bias=bias)]\n",
        "            layers += [nn.BatchNorm2d(num_features=out_channels)]\n",
        "            layers += [nn.ReLU()]\n",
        "\n",
        "            cbr = nn.Sequential(*layers)\n",
        "\n",
        "            return cbr\n",
        "\n",
        "        # Contracting path\n",
        "        self.enc1_1 = CBR2d(in_channels=1, out_channels=64)\n",
        "        self.enc1_2 = CBR2d(in_channels=64, out_channels=64)\n",
        "\n",
        "        self.pool1 = nn.MaxPool2d(kernel_size=2)\n",
        "\n",
        "        self.enc2_1 = CBR2d(in_channels=64, out_channels=128)\n",
        "        self.enc2_2 = CBR2d(in_channels=128, out_channels=128)\n",
        "\n",
        "        self.pool2 = nn.MaxPool2d(kernel_size=2)\n",
        "\n",
        "        self.enc3_1 = CBR2d(in_channels=128, out_channels=256)\n",
        "        self.enc3_2 = CBR2d(in_channels=256, out_channels=256)\n",
        "\n",
        "        self.pool3 = nn.MaxPool2d(kernel_size=2)\n",
        "\n",
        "        self.enc4_1 = CBR2d(in_channels=256, out_channels=512)\n",
        "        self.enc4_2 = CBR2d(in_channels=512, out_channels=512)\n",
        "\n",
        "        self.pool4 = nn.MaxPool2d(kernel_size=2)\n",
        "\n",
        "        self.enc5_1 = CBR2d(in_channels=512, out_channels=1024)\n",
        "\n",
        "        # Expansive path\n",
        "        self.dec5_1 = CBR2d(in_channels=1024, out_channels=512)\n",
        "\n",
        "        self.unpool4 = nn.ConvTranspose2d(in_channels=512, out_channels=512,\n",
        "                                          kernel_size=2, stride=2, padding=0, bias=True)\n",
        "\n",
        "        self.dec4_2 = CBR2d(in_channels=2 * 512, out_channels=512)\n",
        "        self.dec4_1 = CBR2d(in_channels=512, out_channels=256)\n",
        "\n",
        "        self.unpool3 = nn.ConvTranspose2d(in_channels=256, out_channels=256,\n",
        "                                          kernel_size=2, stride=2, padding=0, bias=True)\n",
        "\n",
        "        self.dec3_2 = CBR2d(in_channels=2 * 256, out_channels=256)\n",
        "        self.dec3_1 = CBR2d(in_channels=256, out_channels=128)\n",
        "\n",
        "        self.unpool2 = nn.ConvTranspose2d(in_channels=128, out_channels=128,\n",
        "                                          kernel_size=2, stride=2, padding=0, bias=True)\n",
        "\n",
        "        self.dec2_2 = CBR2d(in_channels=2 * 128, out_channels=128)\n",
        "        self.dec2_1 = CBR2d(in_channels=128, out_channels=64)\n",
        "\n",
        "        self.unpool1 = nn.ConvTranspose2d(in_channels=64, out_channels=64,\n",
        "                                          kernel_size=2, stride=2, padding=0, bias=True)\n",
        "\n",
        "        self.dec1_2 = CBR2d(in_channels=2 * 64, out_channels=64)\n",
        "        self.dec1_1 = CBR2d(in_channels=64, out_channels=64)\n",
        "\n",
        "        self.fc = nn.Conv2d(in_channels=64, out_channels=1, kernel_size=1, stride=1, padding=0, bias=True)\n",
        "\n",
        "    def forward(self, x):\n",
        "        enc1_1 = self.enc1_1(x)\n",
        "        enc1_2 = self.enc1_2(enc1_1)\n",
        "        pool1 = self.pool1(enc1_2)\n",
        "\n",
        "        enc2_1 = self.enc2_1(pool1)\n",
        "        enc2_2 = self.enc2_2(enc2_1)\n",
        "        pool2 = self.pool2(enc2_2)\n",
        "\n",
        "        enc3_1 = self.enc3_1(pool2)\n",
        "        enc3_2 = self.enc3_2(enc3_1)\n",
        "        pool3 = self.pool3(enc3_2)\n",
        "\n",
        "        enc4_1 = self.enc4_1(pool3)\n",
        "        enc4_2 = self.enc4_2(enc4_1)\n",
        "        pool4 = self.pool4(enc4_2)\n",
        "\n",
        "        enc5_1 = self.enc5_1(pool4)\n",
        "\n",
        "        dec5_1 = self.dec5_1(enc5_1)\n",
        "\n",
        "        unpool4 = self.unpool4(dec5_1)\n",
        "        cat4 = torch.cat((unpool4, enc4_2), dim=1)\n",
        "        dec4_2 = self.dec4_2(cat4)\n",
        "        dec4_1 = self.dec4_1(dec4_2)\n",
        "\n",
        "        unpool3 = self.unpool3(dec4_1)\n",
        "        cat3 = torch.cat((unpool3, enc3_2), dim=1)\n",
        "        dec3_2 = self.dec3_2(cat3)\n",
        "        dec3_1 = self.dec3_1(dec3_2)\n",
        "\n",
        "        unpool2 = self.unpool2(dec3_1)\n",
        "        cat2 = torch.cat((unpool2, enc2_2), dim=1)\n",
        "        dec2_2 = self.dec2_2(cat2)\n",
        "        dec2_1 = self.dec2_1(dec2_2)\n",
        "\n",
        "        unpool1 = self.unpool1(dec2_1)\n",
        "        cat1 = torch.cat((unpool1, enc1_2), dim=1)\n",
        "        dec1_2 = self.dec1_2(cat1)\n",
        "        dec1_1 = self.dec1_1(dec1_2)\n",
        "\n",
        "        x = self.fc(dec1_1)\n",
        "\n",
        "        return x"
      ],
      "metadata": {
        "id": "gUcMO24R54Eu"
      },
      "execution_count": null,
      "outputs": []
    },
    {
      "cell_type": "code",
      "source": [
        "class Dataset(torch.utils.data.Dataset):\n",
        "    def __init__(self, data_dir, transform=None):\n",
        "        self.data_dir = data_dir\n",
        "        self.transform = transform\n",
        "\n",
        "        lst_data = os.listdir(self.data_dir)\n",
        "\n",
        "        lst_label = [f for f in lst_data if f.startswith('label')]  # 문자열 검사해서 'label'이 있으면 True\n",
        "        lst_input = [f for f in lst_data if f.startswith('input')]  # 문자열 검사해서 'input'이 있으면 True\n",
        "\n",
        "        lst_label.sort()\n",
        "        lst_input.sort()\n",
        "\n",
        "        self.lst_label = lst_label\n",
        "        self.lst_input = lst_input\n",
        "\n",
        "    def __len__(self):\n",
        "        return len(self.lst_label)\n",
        "\n",
        "    def __getitem__(self, index):\n",
        "        label = np.load(os.path.join(self.data_dir, self.lst_label[index]))\n",
        "        inputs = np.load(os.path.join(self.data_dir, self.lst_input[index]))\n",
        "\n",
        "        # normalize\n",
        "        label = label / 255.0\n",
        "        inputs = inputs / 255.0\n",
        "        label = label.astype(np.float32)\n",
        "        inputs = inputs.astype(np.float32)\n",
        "\n",
        "        # 인풋 데이터 차원이 2이면, 채널 축을 추가해줘야한다. 파이토치 인풋은 (batch, 채널, 행, 열)\n",
        "        if label.ndim == 2:\n",
        "            label = label[:, :, np.newaxis]\n",
        "        if inputs.ndim == 2:\n",
        "            inputs = inputs[:, :, np.newaxis]\n",
        "\n",
        "        data = {'input': inputs, 'label': label}\n",
        "\n",
        "        if self.transform:\n",
        "            data = self.transform(data)  # transform에 할당된 class 들이 호출되면서 __call__ 함수 실행\n",
        "\n",
        "        return data"
      ],
      "metadata": {
        "id": "DHaXZIFM7r22"
      },
      "execution_count": null,
      "outputs": []
    },
    {
      "cell_type": "code",
      "source": [
        "class ToTensor(object):\n",
        "    def __call__(self, data):\n",
        "        label, input = data['label'], data['input']\n",
        "\n",
        "        label = label.transpose((0, 1, 2)).astype(np.float32)\n",
        "        input = input.transpose((0, 1, 2)).astype(np.float32)\n",
        "\n",
        "        data = {'label': torch.from_numpy(label), 'input': torch.from_numpy(input)}\n",
        "\n",
        "        return data"
      ],
      "metadata": {
        "id": "MZ9x9Rhl7wYr"
      },
      "execution_count": null,
      "outputs": []
    },
    {
      "cell_type": "code",
      "source": [
        "class Normalization(object):\n",
        "    def __init__(self, mean=0.5, std=0.5):\n",
        "        self.mean = mean\n",
        "        self.std = std\n",
        "\n",
        "    def __call__(self, data):\n",
        "        label, input = data['label'], data['input']\n",
        "\n",
        "        input = (input - self.mean) / self.std\n",
        "\n",
        "        data = {'label': label, 'input': input}\n",
        "\n",
        "        return data"
      ],
      "metadata": {
        "id": "jgqUHW3t7xvv"
      },
      "execution_count": null,
      "outputs": []
    },
    {
      "cell_type": "code",
      "source": [
        "class RandomFlip(object):\n",
        "    def __call__(self, data):\n",
        "        label, input = data['label'], data['input']\n",
        "\n",
        "        if np.random.rand() > 0.5:\n",
        "            label = np.fliplr(label)\n",
        "            input = np.fliplr(input)\n",
        "\n",
        "        if np.random.rand() > 0.5:\n",
        "            label = np.flipud(label)\n",
        "            input = np.flipud(input)\n",
        "\n",
        "        data = {'label': label, 'input': input}\n",
        "\n",
        "        return data"
      ],
      "metadata": {
        "id": "qTEGPZym7zDx"
      },
      "execution_count": null,
      "outputs": []
    },
    {
      "cell_type": "code",
      "source": [
        "## 하이퍼 파라미터 설정\n",
        "\n",
        "lr = 1e-3\n",
        "batch_size = 10\n",
        "num_epoch = 10\n",
        "\n",
        "data_dir = os.path.join(dir_data, 'data')\n",
        "ckpt_dir = os.path.join(dir_data, 'checkpoint')\n",
        "log_dir = os.path.join(dir_data, 'log')\n",
        "\n",
        "device = torch.device('cuda' if torch.cuda.is_available() else 'cpu')\n",
        "\n",
        "# transform 적용해서 데이터 셋 불러오기\n",
        "transform = transforms.Compose([Normalization(mean=0.5, std=0.5), RandomFlip(), ToTensor()])\n",
        "dataset_train = Dataset(data_dir=os.path.join(data_dir,'train'),transform=transform)\n",
        "\n",
        "# 불러온 데이터셋, 배치 size줘서 DataLoader 해주기\n",
        "loader_train = DataLoader(dataset_train, batch_size = batch_size, shuffle=True)\n",
        "\n",
        "# val set도 동일하게 진행\n",
        "dataset_val = Dataset(data_dir=os.path.join(data_dir,'val'),transform = transform)\n",
        "loader_val = DataLoader(dataset_val, batch_size=batch_size , shuffle=True)\n",
        "\n",
        "# 네트워크 불러오기\n",
        "net = UNet().to(device) # device : cpu or gpu\n",
        "\n",
        "# loss 정의\n",
        "fn_loss = nn.BCEWithLogitsLoss().to(device)\n",
        "\n",
        "# Optimizer 정의\n",
        "optim = torch.optim.Adam(net.parameters(), lr = lr )\n",
        "\n",
        "# 기타 variables 설정\n",
        "num_train = len(dataset_train)\n",
        "num_val = len(dataset_val)\n",
        "\n",
        "num_train_for_epoch = np.ceil(num_train/batch_size) # np.ceil : 소수점 반올림\n",
        "num_val_for_epoch = np.ceil(num_val/batch_size)\n",
        "\n",
        "# 기타 function 설정\n",
        "fn_tonumpy = lambda x : x.to('cpu').detach().numpy().transpose(0,2,3,1) # device 위에 올라간 텐서를 detach 한 뒤 numpy로 변환\n",
        "fn_denorm = lambda x, mean, std : (x * std) + mean\n",
        "fn_classifier = lambda x :  1.0 * (x > 0.5)  # threshold 0.5 기준으로 indicator function으로 classifier 구현\n",
        "\n",
        "# Tensorbord\n",
        "writer_train = SummaryWriter(log_dir=os.path.join(log_dir,'train'))\n",
        "writer_val = SummaryWriter(log_dir = os.path.join(log_dir,'val'))"
      ],
      "metadata": {
        "id": "3yEsepnx8HIB"
      },
      "execution_count": null,
      "outputs": []
    },
    {
      "cell_type": "code",
      "source": [
        "# 네트워크 저장하기\n",
        "# train을 마친 네트워크 저장\n",
        "# net : 네트워크 파라미터, optim  두개를 dict 형태로 저장\n",
        "def save(ckpt_dir,net,optim,epoch):\n",
        "    if not os.path.exists(ckpt_dir):\n",
        "        os.makedirs(ckpt_dir)\n",
        "\n",
        "    torch.save({'net':net.state_dict(),'optim':optim.state_dict()},'%s/model_epoch%d.pth'%(ckpt_dir,epoch))\n",
        "\n",
        "# 네트워크 불러오기\n",
        "def load(ckpt_dir,net,optim):\n",
        "    if not os.path.exists(ckpt_dir): # 저장된 네트워크가 없다면 인풋을 그대로 반환\n",
        "        epoch = 0\n",
        "        return net, optim, epoch\n",
        "\n",
        "    ckpt_lst = os.listdir(ckpt_dir) # ckpt_dir 아래 있는 모든 파일 리스트를 받아온다\n",
        "    ckpt_lst.sort(key = lambda f : int(''.join(filter(str,isdigit,f))))\n",
        "\n",
        "    dict_model = torch.load('%s/%s' % (ckpt_dir,ckpt_lst[-1]))\n",
        "\n",
        "    net.load_state_dict(dict_model['net'])\n",
        "    optim.load_state_dict(dict_model['optim'])\n",
        "    epoch = int(ckpt_lst[-1].split('epoch')[1].split('.pth')[0])\n",
        "\n",
        "    return net,optim,epoch\n",
        "\n",
        "\n",
        "# 네트워크 학습시키기\n",
        "start_epoch = 0\n",
        "net, optim, start_epoch = load(ckpt_dir = ckpt_dir, net = net, optim = optim) # 저장된 네트워크 불러오기\n",
        "\n",
        "for epoch in range(start_epoch+1,num_epoch +1):\n",
        "    net.train()\n",
        "    loss_arr = []\n",
        "\n",
        "    for batch, data in enumerate(loader_train, 1):\n",
        "        # forward\n",
        "        label = data['label'].to(device)   # 데이터 device로 올리기\n",
        "        inputs = data['input'].to(device)\n",
        "        output = net(inputs)\n",
        "\n",
        "        # backward\n",
        "        optim.zero_grad()  # gradient 초기화\n",
        "        loss = fn_loss(output, label)  # output과 label 사이의 loss 계산\n",
        "        loss.backward() # gradient backpropagation\n",
        "        optim.step() # backpropa 된 gradient를 이용해서 각 layer의 parameters update\n",
        "\n",
        "        # save loss\n",
        "        loss_arr += [loss.item()]\n",
        "\n",
        "        # tensorbord에 결과값들 저정하기\n",
        "        label = fn_tonumpy(label)\n",
        "        inputs = fn_tonumpy(fn_denorm(inputs,0.5,0.5))\n",
        "        output = fn_tonumpy(fn_classifier(output))\n",
        "\n",
        "        writer_train.add_image('label', label, num_train_for_epoch * (epoch - 1) + batch, dataformats='NHWC')\n",
        "        writer_train.add_image('input', inputs, num_train_for_epoch * (epoch - 1) + batch, dataformats='NHWC')\n",
        "        writer_train.add_image('output', output, num_train_for_epoch * (epoch - 1) + batch, dataformats='NHWC')\n",
        "\n",
        "    writer_train.add_scalar('loss', np.mean(loss_arr), epoch)\n",
        "\n",
        "\n",
        "    # validation\n",
        "    with torch.no_grad(): # validation 이기 때문에 backpropa 진행 x, 학습된 네트워크가 정답과 얼마나 가까운지 loss만 계산\n",
        "        net.eval() # 네트워크를 evaluation 용으로 선언\n",
        "        loss_arr = []\n",
        "\n",
        "        for batch, data in enumerate(loader_val,1):\n",
        "            # forward\n",
        "            label = data['label'].to(device)\n",
        "            inputs = data['input'].to(device)\n",
        "            output = net(inputs)\n",
        "\n",
        "            # loss\n",
        "            loss = fn_loss(output,label)\n",
        "            loss_arr += [loss.item()]\n",
        "            print('valid : epoch %04d / %04d | Batch %04d \\ %04d | Loss %04d'%(epoch,num_epoch,batch,num_val_for_epoch,np.mean(loss_arr)))\n",
        "\n",
        "            # Tensorboard 저장하기\n",
        "            label = fn_tonumpy(label)\n",
        "            inputs = fn_tonumpy(fn_denorm(inputs, mean=0.5, std=0.5))\n",
        "            output = fn_tonumpy(fn_classifier(output))\n",
        "\n",
        "            writer_val.add_image('label', label, num_val_for_epoch * (epoch - 1) + batch, dataformats='NHWC')\n",
        "            writer_val.add_image('input', inputs, num_val_for_epoch * (epoch - 1) + batch, dataformats='NHWC')\n",
        "            writer_val.add_image('output', output, num_val_for_epoch * (epoch - 1) + batch, dataformats='NHWC')\n",
        "\n",
        "        writer_val.add_scalar('loss', np.mean(loss_arr), epoch)\n",
        "\n",
        "        # epoch이 끝날때 마다 네트워크 저장\n",
        "        save(ckpt_dir=ckpt_dir, net = net, optim = optim, epoch = epoch)\n",
        "\n",
        "writer_train.close()\n",
        "writer_val.close()"
      ],
      "metadata": {
        "id": "TNRvjbkl8H0o",
        "colab": {
          "base_uri": "https://localhost:8080/"
        },
        "outputId": "e9c0e902-bf1b-4af8-adbb-126d40eea47b"
      },
      "execution_count": null,
      "outputs": [
        {
          "output_type": "stream",
          "name": "stdout",
          "text": [
            "valid : epoch 0001 / 0010 | Batch 0001 \\ 0002 | Loss 0000\n",
            "valid : epoch 0001 / 0010 | Batch 0002 \\ 0002 | Loss 0000\n",
            "valid : epoch 0002 / 0010 | Batch 0001 \\ 0002 | Loss 0000\n",
            "valid : epoch 0002 / 0010 | Batch 0002 \\ 0002 | Loss 0000\n",
            "valid : epoch 0003 / 0010 | Batch 0001 \\ 0002 | Loss 0000\n",
            "valid : epoch 0003 / 0010 | Batch 0002 \\ 0002 | Loss 0000\n",
            "valid : epoch 0004 / 0010 | Batch 0001 \\ 0002 | Loss 0000\n",
            "valid : epoch 0004 / 0010 | Batch 0002 \\ 0002 | Loss 0000\n",
            "valid : epoch 0005 / 0010 | Batch 0001 \\ 0002 | Loss 0003\n",
            "valid : epoch 0005 / 0010 | Batch 0002 \\ 0002 | Loss 0003\n",
            "valid : epoch 0006 / 0010 | Batch 0001 \\ 0002 | Loss 0007\n",
            "valid : epoch 0006 / 0010 | Batch 0002 \\ 0002 | Loss 0006\n",
            "valid : epoch 0007 / 0010 | Batch 0001 \\ 0002 | Loss 0000\n",
            "valid : epoch 0007 / 0010 | Batch 0002 \\ 0002 | Loss 0000\n",
            "valid : epoch 0008 / 0010 | Batch 0001 \\ 0002 | Loss 0000\n",
            "valid : epoch 0008 / 0010 | Batch 0002 \\ 0002 | Loss 0000\n",
            "valid : epoch 0009 / 0010 | Batch 0001 \\ 0002 | Loss 0000\n",
            "valid : epoch 0009 / 0010 | Batch 0002 \\ 0002 | Loss 0000\n",
            "valid : epoch 0010 / 0010 | Batch 0001 \\ 0002 | Loss 0000\n",
            "valid : epoch 0010 / 0010 | Batch 0002 \\ 0002 | Loss 0000\n"
          ]
        }
      ]
    },
    {
      "cell_type": "code",
      "source": [
        "pre_test = cv2.imread(os.path.join(os.getcwd(), \"A1_구진_플라크\", \"IMG_D_A1_009835.jpg\"), cv2.IMREAD_GRAYSCALE)\n",
        "pre_test = cv2.resize(pre_test, dsize=(480, 320))\n",
        "pre_test = np.array(pre_test)\n",
        "cv2_imshow(pre_test)\n",
        "pre_test = np.expand_dims(pre_test, axis=0)\n",
        "\n",
        "net.eval()\n",
        "masks = net(pre_test)\n",
        "cv2_imshow(masks)"
      ],
      "metadata": {
        "colab": {
          "base_uri": "https://localhost:8080/",
          "height": 235
        },
        "id": "GnfwH8HJKgq6",
        "outputId": "d204671a-b337-4231-9c65-17ceafa9fcad"
      },
      "execution_count": null,
      "outputs": [
        {
          "output_type": "error",
          "ename": "error",
          "evalue": "ignored",
          "traceback": [
            "\u001b[0;31m---------------------------------------------------------------------------\u001b[0m",
            "\u001b[0;31merror\u001b[0m                                     Traceback (most recent call last)",
            "\u001b[0;32m<ipython-input-8-a7dd1158ce76>\u001b[0m in \u001b[0;36m<cell line: 2>\u001b[0;34m()\u001b[0m\n\u001b[1;32m      1\u001b[0m \u001b[0mpre_test\u001b[0m \u001b[0;34m=\u001b[0m \u001b[0mcv2\u001b[0m\u001b[0;34m.\u001b[0m\u001b[0mimread\u001b[0m\u001b[0;34m(\u001b[0m\u001b[0mos\u001b[0m\u001b[0;34m.\u001b[0m\u001b[0mpath\u001b[0m\u001b[0;34m.\u001b[0m\u001b[0mjoin\u001b[0m\u001b[0;34m(\u001b[0m\u001b[0mos\u001b[0m\u001b[0;34m.\u001b[0m\u001b[0mgetcwd\u001b[0m\u001b[0;34m(\u001b[0m\u001b[0;34m)\u001b[0m\u001b[0;34m,\u001b[0m \u001b[0;34m\"A1_구진_플라크\"\u001b[0m\u001b[0;34m,\u001b[0m \u001b[0;34m\"IMG_D_A1_009835.jpg\"\u001b[0m\u001b[0;34m)\u001b[0m\u001b[0;34m,\u001b[0m \u001b[0mcv2\u001b[0m\u001b[0;34m.\u001b[0m\u001b[0mIMREAD_GRAYSCALE\u001b[0m\u001b[0;34m)\u001b[0m\u001b[0;34m\u001b[0m\u001b[0;34m\u001b[0m\u001b[0m\n\u001b[0;32m----> 2\u001b[0;31m \u001b[0mpre_test\u001b[0m \u001b[0;34m=\u001b[0m \u001b[0mcv2\u001b[0m\u001b[0;34m.\u001b[0m\u001b[0mresize\u001b[0m\u001b[0;34m(\u001b[0m\u001b[0mpre_test\u001b[0m\u001b[0;34m,\u001b[0m \u001b[0mdsize\u001b[0m\u001b[0;34m=\u001b[0m\u001b[0;34m(\u001b[0m\u001b[0;36m480\u001b[0m\u001b[0;34m,\u001b[0m \u001b[0;36m320\u001b[0m\u001b[0;34m)\u001b[0m\u001b[0;34m)\u001b[0m\u001b[0;34m\u001b[0m\u001b[0;34m\u001b[0m\u001b[0m\n\u001b[0m\u001b[1;32m      3\u001b[0m \u001b[0mpre_test\u001b[0m \u001b[0;34m=\u001b[0m \u001b[0mnp\u001b[0m\u001b[0;34m.\u001b[0m\u001b[0marray\u001b[0m\u001b[0;34m(\u001b[0m\u001b[0mpre_test\u001b[0m\u001b[0;34m)\u001b[0m\u001b[0;34m\u001b[0m\u001b[0;34m\u001b[0m\u001b[0m\n\u001b[1;32m      4\u001b[0m \u001b[0mcv2_imshow\u001b[0m\u001b[0;34m(\u001b[0m\u001b[0mpre_test\u001b[0m\u001b[0;34m)\u001b[0m\u001b[0;34m\u001b[0m\u001b[0;34m\u001b[0m\u001b[0m\n\u001b[1;32m      5\u001b[0m \u001b[0mpre_test\u001b[0m \u001b[0;34m=\u001b[0m \u001b[0mnp\u001b[0m\u001b[0;34m.\u001b[0m\u001b[0mexpand_dims\u001b[0m\u001b[0;34m(\u001b[0m\u001b[0mpre_test\u001b[0m\u001b[0;34m,\u001b[0m \u001b[0maxis\u001b[0m\u001b[0;34m=\u001b[0m\u001b[0;36m0\u001b[0m\u001b[0;34m)\u001b[0m\u001b[0;34m\u001b[0m\u001b[0;34m\u001b[0m\u001b[0m\n",
            "\u001b[0;31merror\u001b[0m: OpenCV(4.7.0) /io/opencv/modules/imgproc/src/resize.cpp:4062: error: (-215:Assertion failed) !ssize.empty() in function 'resize'\n"
          ]
        }
      ]
    },
    {
      "cell_type": "markdown",
      "source": [
        "# ㅡㅡㅡㅡㅡㅡㅡㅡㅡㅡㅡㅡㅡㅡㅡㅡㅡㅡㅡㅡㅡㅡㅡㅡㅡㅡㅡㅡㅡㅡㅡㅡㅡㅡㅡㅡㅡ"
      ],
      "metadata": {
        "id": "gohc9vnLX2zO"
      }
    },
    {
      "cell_type": "code",
      "source": [
        "import json\n",
        "import os\n",
        "import cv2\n",
        "import numpy as np\n",
        "from PIL import Image\n",
        "\n",
        "from google.colab.patches import cv2_imshow"
      ],
      "metadata": {
        "id": "Myz1FKSMX5cr"
      },
      "execution_count": null,
      "outputs": []
    },
    {
      "cell_type": "code",
      "source": [
        "with open(os.getcwd() + '/temp_image/IMG_D_A1_000001.json', 'r', encoding='UTF8') as f:\n",
        "    json_data = json.load(f)\n",
        "\n",
        "json_data"
      ],
      "metadata": {
        "id": "VYmwzFuCcqkt",
        "colab": {
          "base_uri": "https://localhost:8080/",
          "height": 218
        },
        "outputId": "11e4f9c7-e67b-4045-ef65-159887e4e61b"
      },
      "execution_count": null,
      "outputs": [
        {
          "output_type": "error",
          "ename": "FileNotFoundError",
          "evalue": "ignored",
          "traceback": [
            "\u001b[0;31m---------------------------------------------------------------------------\u001b[0m",
            "\u001b[0;31mFileNotFoundError\u001b[0m                         Traceback (most recent call last)",
            "\u001b[0;32m<ipython-input-11-447f4da86acb>\u001b[0m in \u001b[0;36m<cell line: 1>\u001b[0;34m()\u001b[0m\n\u001b[0;32m----> 1\u001b[0;31m \u001b[0;32mwith\u001b[0m \u001b[0mopen\u001b[0m\u001b[0;34m(\u001b[0m\u001b[0mos\u001b[0m\u001b[0;34m.\u001b[0m\u001b[0mgetcwd\u001b[0m\u001b[0;34m(\u001b[0m\u001b[0;34m)\u001b[0m \u001b[0;34m+\u001b[0m \u001b[0;34m'/temp_image/IMG_D_A1_000001.json'\u001b[0m\u001b[0;34m,\u001b[0m \u001b[0;34m'r'\u001b[0m\u001b[0;34m,\u001b[0m \u001b[0mencoding\u001b[0m\u001b[0;34m=\u001b[0m\u001b[0;34m'UTF8'\u001b[0m\u001b[0;34m)\u001b[0m \u001b[0;32mas\u001b[0m \u001b[0mf\u001b[0m\u001b[0;34m:\u001b[0m\u001b[0;34m\u001b[0m\u001b[0;34m\u001b[0m\u001b[0m\n\u001b[0m\u001b[1;32m      2\u001b[0m     \u001b[0mjson_data\u001b[0m \u001b[0;34m=\u001b[0m \u001b[0mjson\u001b[0m\u001b[0;34m.\u001b[0m\u001b[0mload\u001b[0m\u001b[0;34m(\u001b[0m\u001b[0mf\u001b[0m\u001b[0;34m)\u001b[0m\u001b[0;34m\u001b[0m\u001b[0;34m\u001b[0m\u001b[0m\n\u001b[1;32m      3\u001b[0m \u001b[0;34m\u001b[0m\u001b[0m\n\u001b[1;32m      4\u001b[0m \u001b[0mjson_data\u001b[0m\u001b[0;34m\u001b[0m\u001b[0;34m\u001b[0m\u001b[0m\n",
            "\u001b[0;31mFileNotFoundError\u001b[0m: [Errno 2] No such file or directory: '/content/temp_image/IMG_D_A1_000001.json'"
          ]
        }
      ]
    },
    {
      "cell_type": "code",
      "source": [
        "dir_data = os.getcwd()\n",
        "\n",
        "_data_dir = os.path.join(dir_data, 'A1_구진_플라크')\n",
        "_lst_data = os.listdir(_data_dir)\n",
        "\n",
        "_lst_label = [f for f in _lst_data if f.endswith('json')] # only json list\n",
        "cnt = 0"
      ],
      "metadata": {
        "id": "7S94wW8ZLoU1",
        "colab": {
          "base_uri": "https://localhost:8080/",
          "height": 235
        },
        "outputId": "bdd4c655-69a0-484e-aef3-d6bd558a2f96"
      },
      "execution_count": null,
      "outputs": [
        {
          "output_type": "error",
          "ename": "FileNotFoundError",
          "evalue": "ignored",
          "traceback": [
            "\u001b[0;31m---------------------------------------------------------------------------\u001b[0m",
            "\u001b[0;31mFileNotFoundError\u001b[0m                         Traceback (most recent call last)",
            "\u001b[0;32m<ipython-input-12-445121513ef5>\u001b[0m in \u001b[0;36m<cell line: 4>\u001b[0;34m()\u001b[0m\n\u001b[1;32m      2\u001b[0m \u001b[0;34m\u001b[0m\u001b[0m\n\u001b[1;32m      3\u001b[0m \u001b[0m_data_dir\u001b[0m \u001b[0;34m=\u001b[0m \u001b[0mos\u001b[0m\u001b[0;34m.\u001b[0m\u001b[0mpath\u001b[0m\u001b[0;34m.\u001b[0m\u001b[0mjoin\u001b[0m\u001b[0;34m(\u001b[0m\u001b[0mdir_data\u001b[0m\u001b[0;34m,\u001b[0m \u001b[0;34m'A1_구진_플라크'\u001b[0m\u001b[0;34m)\u001b[0m\u001b[0;34m\u001b[0m\u001b[0;34m\u001b[0m\u001b[0m\n\u001b[0;32m----> 4\u001b[0;31m \u001b[0m_lst_data\u001b[0m \u001b[0;34m=\u001b[0m \u001b[0mos\u001b[0m\u001b[0;34m.\u001b[0m\u001b[0mlistdir\u001b[0m\u001b[0;34m(\u001b[0m\u001b[0m_data_dir\u001b[0m\u001b[0;34m)\u001b[0m\u001b[0;34m\u001b[0m\u001b[0;34m\u001b[0m\u001b[0m\n\u001b[0m\u001b[1;32m      5\u001b[0m \u001b[0;34m\u001b[0m\u001b[0m\n\u001b[1;32m      6\u001b[0m \u001b[0m_lst_label\u001b[0m \u001b[0;34m=\u001b[0m \u001b[0;34m[\u001b[0m\u001b[0mf\u001b[0m \u001b[0;32mfor\u001b[0m \u001b[0mf\u001b[0m \u001b[0;32min\u001b[0m \u001b[0m_lst_data\u001b[0m \u001b[0;32mif\u001b[0m \u001b[0mf\u001b[0m\u001b[0;34m.\u001b[0m\u001b[0mendswith\u001b[0m\u001b[0;34m(\u001b[0m\u001b[0;34m'json'\u001b[0m\u001b[0;34m)\u001b[0m\u001b[0;34m]\u001b[0m \u001b[0;31m# only json list\u001b[0m\u001b[0;34m\u001b[0m\u001b[0;34m\u001b[0m\u001b[0m\n",
            "\u001b[0;31mFileNotFoundError\u001b[0m: [Errno 2] No such file or directory: '/content/A1_구진_플라크'"
          ]
        }
      ]
    },
    {
      "cell_type": "code",
      "source": [
        "cnt = 0\n",
        "div_size = 4\n",
        "\n",
        "for fileUrl in _lst_label:\n",
        "\n",
        "    fileUrl = os.path.join(_data_dir, fileUrl)\n",
        "\n",
        "    # 지워야함\n",
        "    if cnt > 10:\n",
        "        break\n",
        "\n",
        "    with open(fileUrl, 'r', encoding='UTF8') as f:\n",
        "\n",
        "        json_data = json.load(f)\n",
        "        image_name = json_data['metaData']['Raw data ID']\n",
        "        info = json_data['labelingInfo']\n",
        "        color = int(info[0]['polygon']['color'][1:], 16)\n",
        "\n",
        "        try:\n",
        "\n",
        "            ## Input data\n",
        "            origin_img = cv2.imread(os.path.join(_data_dir, image_name), cv2.IMREAD_GRAYSCALE)\n",
        "            origin_img_size = np.array(origin_img).shape\n",
        "\n",
        "            resized_img = cv2.resize(origin_img, dsize=(480, 320))\n",
        "            cv2_imshow(resized_img)\n",
        "            resized_img = np.array(resized_img)\n",
        "            resized_img = np.expand_dims(resized_img, axis=0)\n",
        "\n",
        "            print(resized_img.shape)\n",
        "            print(image_name)\n",
        "\n",
        "            np.save(os.path.join(dir_data, 'data', 'train', 'input' + str(cnt)), np.array(resized_img))\n",
        "            np.save(os.path.join(dir_data, 'data', 'val', 'input' + str(cnt)), np.array(resized_img))\n",
        "\n",
        "            ## Label data\n",
        "            label_mask = np.zeros((3,)+(480, 320), dtype=np.float64)\n",
        "            label_mask = np.swapaxes(label_mask, 0, 2)\n",
        "            print(label_mask.shape) # (320, 480, 3)\n",
        "\n",
        "            polygon_location_info = info[0]['polygon']['location'][0]\n",
        "\n",
        "            points_cnt = int(len(polygon_location_info)/2)\n",
        "            tmp_dots = np.empty((points_cnt, 2), int)\n",
        "\n",
        "            for key, value in zip(polygon_location_info.keys(), polygon_location_info.values()):\n",
        "\n",
        "                pos = int(key[1:])-1\n",
        "\n",
        "                if key.startswith('x'):\n",
        "                    tmp_dots[pos][0] = int(value/div_size)\n",
        "                else:\n",
        "                    tmp_dots[pos][1] = int(value/origin_img_size[0]*320)\n",
        "\n",
        "            label_mask = cv2.fillPoly(label_mask.copy(), [tmp_dots], (100, 100, 100))\n",
        "            cv2_imshow(label_mask)\n",
        "            label_mask = np.array(label_mask).sum(axis=2)\n",
        "            label_mask = np.expand_dims(label_mask, axis=0)\n",
        "            print(label_mask.shape)\n",
        "\n",
        "            np.save(os.path.join(dir_data, 'data', 'train', 'label' + str(cnt)), np.array(label_mask))\n",
        "            np.save(os.path.join(dir_data, 'data', 'val', 'label' + str(cnt)), np.array(label_mask))\n",
        "\n",
        "            cnt += 1\n",
        "            print(cnt)\n",
        "\n",
        "        except:\n",
        "            continue;\n",
        "\n",
        "        # np.save(os.path.join(os.getcwd(), 'data', 'train', 'input' + str(index)), image_np)\n",
        "        # np.save(os.path.join(os.getcwd(), 'data', 'val', 'input' + str(index)), image_np)"
      ],
      "metadata": {
        "id": "WJGcrgwXknM5",
        "colab": {
          "base_uri": "https://localhost:8080/",
          "height": 235
        },
        "outputId": "1f105775-dd3a-43a6-9e95-12fee90a9290"
      },
      "execution_count": null,
      "outputs": [
        {
          "output_type": "error",
          "ename": "NameError",
          "evalue": "ignored",
          "traceback": [
            "\u001b[0;31m---------------------------------------------------------------------------\u001b[0m",
            "\u001b[0;31mNameError\u001b[0m                                 Traceback (most recent call last)",
            "\u001b[0;32m<ipython-input-13-9d0d96c51b24>\u001b[0m in \u001b[0;36m<cell line: 4>\u001b[0;34m()\u001b[0m\n\u001b[1;32m      2\u001b[0m \u001b[0mdiv_size\u001b[0m \u001b[0;34m=\u001b[0m \u001b[0;36m4\u001b[0m\u001b[0;34m\u001b[0m\u001b[0;34m\u001b[0m\u001b[0m\n\u001b[1;32m      3\u001b[0m \u001b[0;34m\u001b[0m\u001b[0m\n\u001b[0;32m----> 4\u001b[0;31m \u001b[0;32mfor\u001b[0m \u001b[0mfileUrl\u001b[0m \u001b[0;32min\u001b[0m \u001b[0m_lst_label\u001b[0m\u001b[0;34m:\u001b[0m\u001b[0;34m\u001b[0m\u001b[0;34m\u001b[0m\u001b[0m\n\u001b[0m\u001b[1;32m      5\u001b[0m \u001b[0;34m\u001b[0m\u001b[0m\n\u001b[1;32m      6\u001b[0m     \u001b[0mfileUrl\u001b[0m \u001b[0;34m=\u001b[0m \u001b[0mos\u001b[0m\u001b[0;34m.\u001b[0m\u001b[0mpath\u001b[0m\u001b[0;34m.\u001b[0m\u001b[0mjoin\u001b[0m\u001b[0;34m(\u001b[0m\u001b[0m_data_dir\u001b[0m\u001b[0;34m,\u001b[0m \u001b[0mfileUrl\u001b[0m\u001b[0;34m)\u001b[0m\u001b[0;34m\u001b[0m\u001b[0;34m\u001b[0m\u001b[0m\n",
            "\u001b[0;31mNameError\u001b[0m: name '_lst_label' is not defined"
          ]
        }
      ]
    },
    {
      "cell_type": "code",
      "source": [],
      "metadata": {
        "id": "6unFmyaCgW5B"
      },
      "execution_count": null,
      "outputs": []
    }
  ]
}